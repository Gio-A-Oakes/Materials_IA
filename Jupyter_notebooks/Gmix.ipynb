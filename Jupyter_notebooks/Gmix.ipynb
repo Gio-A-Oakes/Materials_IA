{
 "cells": [
  {
   "cell_type": "markdown",
   "metadata": {},
   "source": [
    "## Monte Carlo simulation"
   ]
  },
  {
   "cell_type": "markdown",
   "metadata": {},
   "source": [
    "The microstructure often determines the mechanical properties of many materials. Hence, it is essential to know what variables it depends on. Temperature, pressure and composition all affect the microstructure at equilibrium according to the Gibbs Phase Rule. The Gibbs energy for mixing ($\\Delta G_{mix}$) determines if two components are soluble or will precipitate and it can be approximated by the regular solution model:\n",
    "\n",
    "$\\Delta G_{mix} = zN_a\\Big[\\varepsilon_{AB}-\\frac{1}{2}\\Big(\\varepsilon_{AA}+\\varepsilon_{BB}\\Big)\\Big] + RT(\\chi_A\\cdot ln(\\chi_A)+\\chi_B ln(\\chi_B))$\n",
    "\n",
    "This model assumes that the volume of pure A equals that of B, which omits the elastic strain field contribution to $\\Delta H_{mix}$. Since the regular solution model is not perfect, and it is difficult to obtain experimental data; computer models like [Metropolis Monte Carlo simulations](https://web.northeastern.edu/afeiguin/phys5870/phys5870/node80.html) are often used. This allows us to determine under what conditions two components would randomly mix, or form precipitates or form inter-metallic phases.\n",
    "\n",
    "The microstructure of a material is determined both by the thermodynamics and the kinetics of the different phases that can form. To simulate this, our A and B atoms are initially in a random configuration. The variables that we can then play with are:\n",
    "\n",
    "* Time (n): by the number of iterations that the algorithm runs for\n",
    "* Composition ($\\chi_A$): determined by the atomic fraction of A atoms (Xa)\n",
    "* The energy of mixing ($\\varepsilon_{AB}$): determines if A and B atoms thermodynamically prefer to be next to each other (intermetallic) or for precipitates\n",
    "* Temperature (T): which determines the amount of diffusion in the system\n",
    "\n",
    "The way a Monte Carlo simulation works is that it randomly selecting an atom and determining if to swap it with one of its neighbours or not. The swapping automatically occurs if it is energetically favourable to do so, determined by the enthalpy of switching the two atoms. The two atoms can also be swapped if there is enough energy to do so, as determined by the Boltzmann distribution $\\Big(exp \\Big(\\frac{-\\Delta E}{k_BT}\\Big)\\Big)$. This term is temperature-dependent and encapsulates the idea of diffusivity and entropy.\n",
    "This process is repeated for n steps, after which we have our final microstructure. To then determine the statistics, we can calculate the number of A-B bonds and thus numerocally determine if we have an ideal solution, a precipitate or an inter-metallic phase.\n",
    "\n",
    "Here we will concentrate mostly on the thermodynamics and see how $\\varepsilon_{AB}$, temperature and composition affect the resulting microstructure."
   ]
  },
  {
   "cell_type": "markdown",
   "metadata": {},
   "source": [
    "## 2D lattice"
   ]
  },
  {
   "cell_type": "markdown",
   "metadata": {},
   "source": [
    "For simplicity, we are going to model our lattice as a $N \\times N$ matrix with periodic boundary conditions.\n",
    "This will start in a random configuration of atoms A and B, which we can reppresent as 1 and 0.\n",
    "We then need to be able to select random indecies of our matrix and apply our Monte Carlo model to determine if to swap the atoms or not."
   ]
  },
  {
   "cell_type": "code",
   "execution_count": 1,
   "metadata": {},
   "outputs": [],
   "source": [
    "import numpy as np\n",
    "import matplotlib.pyplot as plt\n",
    "import alloy_generator as alloy"
   ]
  },
  {
   "cell_type": "code",
   "execution_count": 2,
   "metadata": {},
   "outputs": [
    {
     "data": {
      "image/png": "[encoded data removed]",
      "text/plain": [
       "<Figure size 640x480 with 1 Axes>"
      ]
     },
     "metadata": {},
     "output_type": "display_data"
    },
    {
     "data": {
      "text/plain": [
       "<Figure size 432x288 with 0 Axes>"
      ]
     },
     "metadata": {},
     "output_type": "display_data"
    },
    {
     "data": {
      "image/png": "[encoded data removed]",
      "text/plain": [
       "<Figure size 432x288 with 1 Axes>"
      ]
     },
     "metadata": {
      "needs_background": "light"
     },
     "output_type": "display_data"
    }
   ],
   "source": [
    "# Parameters used:\n",
    "N = 100 # Size of the matrix used\n",
    "Xa = 0.5 # atomic fraction of A atoms\n",
    "n = 10**4 # Number of iterations taken\n",
    "T = 1000 # Temperature in K\n",
    "E = 0.5 # Energy of mixing\n",
    "\n",
    "# Calculate and plot final configuration\n",
    "Alloy = alloy.Create_alloy(N, Xa, n, T, E) \n",
    "plt.figure(num=None, figsize=(8, 6), dpi=80, facecolor='w', edgecolor='k')\n",
    "plt.pcolor(Alloy)\n",
    "plt.figure()\n",
    "alloy.test2D(Alloy, N, Xa)"
   ]
  },
  {
   "cell_type": "markdown",
   "metadata": {},
   "source": [
    "## Ideal solution:"
   ]
  },
  {
   "cell_type": "markdown",
   "metadata": {},
   "source": [
    "When $\\varepsilon_{AB}=0$ the Gibbs energy of mixing is governed by entropy, and thus the atoms move randomly.\n",
    "This random movement can be modeled by a random walk, which will have a mean displacement $\\langle \\mathbf{a} \\rangle$ after $n$ steps equal to zero:\n",
    "    \n",
    "$\\langle \\mathbf{a} \\rangle = \\frac{1}{n}\\sum_{i=1}^n \\mathbf{a_i} = 0$"
   ]
  },
  {
   "cell_type": "code",
   "execution_count": 20,
   "metadata": {},
   "outputs": [
    {
     "data": {
      "text/html": [
       "<iframe src=nut_en.pdf width=700 height=500></iframe>"
      ],
      "text/latex": [
       "\\includegraphics[width=1.0\\textwidth]{nut_en.pdf}"
      ],
      "text/plain": [
       "<alloy_generator.PDF at 0x7fd6bf9df430>"
      ]
     },
     "execution_count": 20,
     "metadata": {},
     "output_type": "execute_result"
    }
   ],
   "source": [
    "alloy.PDF('nut_en.pdf',size=(700,500))"
   ]
  },
  {
   "cell_type": "markdown",
   "metadata": {},
   "source": [
    "This explains why the lattice is always random for the ideal solution regardless of the temperature and thus appears as white noise.\n",
    "\n",
    "Thus temperature has no affect as it follows a Binomial distribution."
   ]
  },
  {
   "cell_type": "code",
   "execution_count": 19,
   "metadata": {},
   "outputs": [
    {
     "data": {
      "text/html": [
       "<iframe src=neutral.pdf width=700 height=400></iframe>"
      ],
      "text/latex": [
       "\\includegraphics[width=1.0\\textwidth]{neutral.pdf}"
      ],
      "text/plain": [
       "<alloy_generator.PDF at 0x7fd6bf9d7340>"
      ]
     },
     "execution_count": 19,
     "metadata": {},
     "output_type": "execute_result"
    }
   ],
   "source": [
    "alloy.PDF('neutral.pdf',size=(700,400))"
   ]
  },
  {
   "cell_type": "markdown",
   "metadata": {},
   "source": [
    "## Precipitate formation:"
   ]
  },
  {
   "cell_type": "markdown",
   "metadata": {},
   "source": [
    "With $\\varepsilon_{AB}$ being different to zero, we now have a preference if A-B atoms are next to each other or not.\n",
    "\n",
    "\n",
    "With $\\varepsilon_{AB}>0$, it is energetically faverable for atoms to separate into regions of A and B atoms only, i.e. create precipitates."
   ]
  },
  {
   "cell_type": "code",
   "execution_count": 18,
   "metadata": {},
   "outputs": [
    {
     "data": {
      "text/html": [
       "<iframe src=pos_en.pdf width=700 height=500></iframe>"
      ],
      "text/latex": [
       "\\includegraphics[width=1.0\\textwidth]{pos_en.pdf}"
      ],
      "text/plain": [
       "<alloy_generator.PDF at 0x7fd6bf9df9d0>"
      ]
     },
     "execution_count": 18,
     "metadata": {},
     "output_type": "execute_result"
    }
   ],
   "source": [
    "alloy.PDF('pos_en.pdf',size=(700,500))"
   ]
  },
  {
   "cell_type": "markdown",
   "metadata": {},
   "source": [
    "There will be a temperature above which the entropy term will dominate and the alloy will resemble the ideal solution case.\n",
    "Also, the size of the precipitates will depend on the temperature, where at lower temperatures in which precipitation is still favoured, smaller grains will tend to form.\n",
    "As the temperature increases there is more energy for the atoms to diffuse and get closer to a global minimum."
   ]
  },
  {
   "cell_type": "code",
   "execution_count": 17,
   "metadata": {},
   "outputs": [
    {
     "data": {
      "text/html": [
       "<iframe src=posative.pdf width=700 height=400></iframe>"
      ],
      "text/latex": [
       "\\includegraphics[width=1.0\\textwidth]{posative.pdf}"
      ],
      "text/plain": [
       "<alloy_generator.PDF at 0x7fd6bf9bd100>"
      ]
     },
     "execution_count": 17,
     "metadata": {},
     "output_type": "execute_result"
    }
   ],
   "source": [
    "alloy.PDF('posative.pdf',size=(700,400))"
   ]
  },
  {
   "cell_type": "markdown",
   "metadata": {},
   "source": [
    "## Inter-metallic:"
   ]
  },
  {
   "cell_type": "markdown",
   "metadata": {},
   "source": [
    "With $\\varepsilon_{AB}<0$ it is energetially faverable for atoms to have different neighbours, resolting in an intermetallic structure.\n",
    "\n",
    "Hence the checkerd board type structure."
   ]
  },
  {
   "cell_type": "code",
   "execution_count": 16,
   "metadata": {},
   "outputs": [
    {
     "data": {
      "text/html": [
       "<iframe src=neg_en.pdf width=700 height=500></iframe>"
      ],
      "text/latex": [
       "\\includegraphics[width=1.0\\textwidth]{neg_en.pdf}"
      ],
      "text/plain": [
       "<alloy_generator.PDF at 0x7fd6e82f8fa0>"
      ]
     },
     "execution_count": 16,
     "metadata": {},
     "output_type": "execute_result"
    }
   ],
   "source": [
    "alloy.PDF('neg_en.pdf',size=(700,500))"
   ]
  },
  {
   "cell_type": "markdown",
   "metadata": {},
   "source": [
    "Again, as we raise the temperature there will be more diffusion, up to the point that an ideal solution is reached"
   ]
  },
  {
   "cell_type": "code",
   "execution_count": 15,
   "metadata": {},
   "outputs": [
    {
     "data": {
      "text/html": [
       "<iframe src=negative.pdf width=700 height=400></iframe>"
      ],
      "text/latex": [
       "\\includegraphics[width=1.0\\textwidth]{negative.pdf}"
      ],
      "text/plain": [
       "<alloy_generator.PDF at 0x7fd6bfa6fa30>"
      ]
     },
     "execution_count": 15,
     "metadata": {},
     "output_type": "execute_result"
    }
   ],
   "source": [
    "alloy.PDF('negative.pdf',size=(700,400))"
   ]
  },
  {
   "cell_type": "markdown",
   "metadata": {},
   "source": [
    "Another interesting aspect to consider is the effect of stoichiometry. As we diverge from a 50/50 mixture of A and B atoms, we notice that the alloy tends to have a more Binomial like distribution (which is represented by the $\\varepsilon_{AB}=0$ data). This is because as we tend towards 100% A or B in composition, we are reducing the entropy in the system due to fewer possible configurations."
   ]
  },
  {
   "cell_type": "code",
   "execution_count": 14,
   "metadata": {},
   "outputs": [
    {
     "data": {
      "text/html": [
       "<iframe src=comp.pdf width=700 height=400></iframe>"
      ],
      "text/latex": [
       "\\includegraphics[width=1.0\\textwidth]{comp.pdf}"
      ],
      "text/plain": [
       "<alloy_generator.PDF at 0x7fd6bf9d7a60>"
      ]
     },
     "execution_count": 14,
     "metadata": {},
     "output_type": "execute_result"
    }
   ],
   "source": [
    "alloy.PDF('comp.pdf',size=(700,400))"
   ]
  }
 ],
 "metadata": {
  "kernelspec": {
   "display_name": "Python 3",
   "language": "python",
   "name": "python3"
  },
  "language_info": {
   "codemirror_mode": {
    "name": "ipython",
    "version": 3
   },
   "file_extension": ".py",
   "mimetype": "text/x-python",
   "name": "python",
   "nbconvert_exporter": "python",
   "pygments_lexer": "ipython3",
   "version": "3.8.3"
  }
 },
 "nbformat": 4,
 "nbformat_minor": 4
}
