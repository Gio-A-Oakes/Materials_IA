{
 "cells": [
  {
   "cell_type": "markdown",
   "id": "d79d4daa-18c0-4702-b73a-54628cd58ff1",
   "metadata": {},
   "source": [
    "# Polymer chain configurations"
   ]
  },
  {
   "cell_type": "markdown",
   "id": "3023626d-bfb7-47c8-a2d8-6b6d4a80434d",
   "metadata": {},
   "source": [
    "In this notebook we:\n",
    "- Import useful python libraries\n",
    "- Define functions to:\n",
    "    - Calculate root-mean-square end-to-end distance\n",
    "    - Calculate a 2D Random walk\n",
    "    - Plot a 2D random walk\n",
    "- Look at the results\n",
    "- Perform some statistical analysis on the results\n",
    "- Set some extension work"
   ]
  },
  {
   "cell_type": "markdown",
   "id": "cfabdd1c-d1d0-4df5-b79b-399feadcf607",
   "metadata": {},
   "source": [
    "## Import"
   ]
  },
  {
   "cell_type": "code",
   "execution_count": 1,
   "id": "53c279f0-6a12-482a-9f2b-49a708f89243",
   "metadata": {},
   "outputs": [],
   "source": [
    "import numpy as np  # This lets us do maths\n",
    "from matplotlib import pyplot as plt  # This lets us plot things"
   ]
  },
  {
   "cell_type": "markdown",
   "id": "fcf252b9-3178-4488-a5b0-785aecd0887b",
   "metadata": {},
   "source": [
    "## Define our functions"
   ]
  },
  {
   "cell_type": "code",
   "execution_count": 2,
   "id": "b2aab663-816f-40bc-9a15-19215f667f50",
   "metadata": {},
   "outputs": [],
   "source": [
    "def calculate_rms_dist(n,l=1):\n",
    "    \"\"\" Returns the root mean square end-to-end distance given n steps of l length \"\"\"\n",
    "    rms = n**0.5 * l\n",
    "    return rms\n",
    "\n",
    "def random_walk(n,l=1):\n",
    "    \"\"\" Takes n steps of length l in a random 2D direction\n",
    "    and returns the x and y postitions of each step \"\"\"\n",
    "    \n",
    "    # creating two arrays for containing x and y coordinates\n",
    "    # of size equals to the number of size and filled up with 0's\n",
    "    x = np.zeros(n)\n",
    "    y = np.zeros(n)\n",
    "    \n",
    "    # Loop over all steps\n",
    "    for i in range(1, n):\n",
    "        # Randomly choose the direction\n",
    "        theta = np.random.random_sample() * 2*np.pi\n",
    "        \n",
    "        # Take the step\n",
    "        x[i] = x[i-1] + l*np.cos(theta)\n",
    "        y[i] = y[i-1] + l*np.sin(theta)\n",
    "            \n",
    "    return x, y\n",
    "\n",
    "def plot_walk(x,y):\n",
    "    \"\"\" A function to nicely plot 2D random walk results\"\"\"\n",
    "    # Start figure\n",
    "    plt.figure(figsize=(5,5))\n",
    "    \n",
    "    # Plot walk\n",
    "    plt.plot(x, y,'k.-',alpha=.5)\n",
    "    \n",
    "    # Plot start/end\n",
    "    plt.plot(x[0],y[0],'go')\n",
    "    plt.plot(x[-1],y[-1],'ro')\n",
    "    \n",
    "    # Calculate rms centre and radius\n",
    "    n = len(x)\n",
    "    comx = np.mean(x)\n",
    "    comy = np.mean(y)\n",
    "    rms = calculate_rms_dist(n)\n",
    "    \n",
    "    # Plot rms radius\n",
    "    circle = plt.Circle((comx, comy), radius=rms/2, color='b', fill=False, ls='--')\n",
    "    ax=plt.gca()\n",
    "    ax.add_patch(circle)\n",
    "\n",
    "    # Format plot\n",
    "    plt.title(\"Random Walk ($n = \" + str(n) + \"$ steps)\")\n",
    "    xmax = np.max([abs(np.min(x)),np.max(x),abs(comx)+rms/2,abs(comx)-rms/2])\n",
    "    ymax = np.max([abs(np.min(y)),np.max(y),abs(comy)+rms/2,abs(comy)-rms/2])\n",
    "    rmax = np.max([xmax,ymax])\n",
    "    plt.xlim([-rmax,rmax])\n",
    "    plt.ylim([-rmax,rmax])\n",
    "    plt.gca().set_aspect(\"equal\")\n",
    "    plt.xlabel('x')\n",
    "    plt.ylabel('y')\n",
    "    plt.show()"
   ]
  },
  {
   "cell_type": "markdown",
   "id": "0bb76fb1-a635-425e-8f8f-7fc1f325c21e",
   "metadata": {},
   "source": [
    "## Look at results"
   ]
  },
  {
   "cell_type": "code",
   "execution_count": 3,
   "id": "b7523064-3ac9-4843-b5fc-623dea22b5e6",
   "metadata": {},
   "outputs": [
    {
     "data": {
      "image/png": "[encoded data removed]",
      "text/plain": [
       "<Figure size 360x360 with 1 Axes>"
      ]
     },
     "metadata": {
      "needs_background": "light"
     },
     "output_type": "display_data"
    }
   ],
   "source": [
    "x,y = random_walk(100)\n",
    "plot_walk(x,y)"
   ]
  },
  {
   "cell_type": "markdown",
   "id": "43dcdf09-b868-4a09-a5f3-1fe584b25d8b",
   "metadata": {},
   "source": [
    "## Small statistical analysis\n",
    "- The rms end-to-end metric is valid for large values of n\n",
    "- We can see this by calculating the rms metric and comparing it to the 'actual' end-to-end distance\n",
    "- If we average over many results we can look at the statistics"
   ]
  },
  {
   "cell_type": "code",
   "execution_count": 4,
   "id": "ab90a3c7-37bb-4f67-ba33-d3f9ca40b0a8",
   "metadata": {},
   "outputs": [],
   "source": [
    "# Initialise arrays\n",
    "ns = [10,100,1000,10000]\n",
    "mean_diffs = []\n",
    "se_diffs = []\n",
    "\n",
    "# Loop over the 4 values of n\n",
    "for n in ns:\n",
    "    diffs = []\n",
    "    # Calculate each value 100 times\n",
    "    for i in range(100):\n",
    "        # Calculate 'real' e2e distance\n",
    "        x,y = random_walk(n)\n",
    "        real_e2e = ((x[-1]-x[0])**2 + (y[-1]-y[0])**2)**0.5\n",
    "        \n",
    "        # Calculate rms e2e distance\n",
    "        rms = calculate_rms_dist(n)\n",
    "        \n",
    "        # Calculate the absolute difference\n",
    "        diff = abs(real_e2e-rms)\n",
    "        diffs.append(diff)\n",
    "        \n",
    "    # For each value of n, calculate its mean difference and standard error\n",
    "    mean_diff = np.mean(diffs)\n",
    "    se_diff = np.std(diffs)/100**0.5\n",
    "    \n",
    "    mean_diffs.append(mean_diff)\n",
    "    se_diffs.append(se_diff)\n",
    "    "
   ]
  },
  {
   "cell_type": "code",
   "execution_count": 5,
   "id": "e5bc4e15-b5fa-4768-89a0-7f74fc13c3a4",
   "metadata": {},
   "outputs": [
    {
     "data": {
      "text/plain": [
       "Text(0, 0.5, 'Normalised mean of \\n |rms e2e - actual e2e|')"
      ]
     },
     "execution_count": 5,
     "metadata": {},
     "output_type": "execute_result"
    },
    {
     "data": {
      "image/png": "[encoded data removed]",
      "text/plain": [
       "<Figure size 432x288 with 1 Axes>"
      ]
     },
     "metadata": {
      "needs_background": "light"
     },
     "output_type": "display_data"
    }
   ],
   "source": [
    "# Plot results\n",
    "plt.errorbar(ns,np.array(mean_diffs)/np.array(ns),yerr=np.array(se_diffs)/np.array(ns),capsize=4,fmt='k.-')\n",
    "\n",
    "# Format plot\n",
    "plt.xscale('log')\n",
    "plt.xlabel('Number of steps, n',fontsize=13)\n",
    "plt.ylabel('Normalised mean of \\n |rms e2e - actual e2e|',fontsize=13)"
   ]
  },
  {
   "cell_type": "markdown",
   "id": "7eb26a3a-4ca7-4528-a39b-27b633fb0b81",
   "metadata": {},
   "source": [
    "## Exercise\n",
    "1. Write a function to return the Kuhn length of a polymer chain\n",
    "2. Write a function to plot the Kuhn segments (hint - modify the existing function)\n",
    "3. Compare the freely-jointed model with the Kuhn-segment model\n",
    "\n",
    "Extension:\n",
    "Compare these two models to the more complicated analytical polymer models such as:\n",
    "-  Excluded Volume (The chain can't 'overlap' anywhere)\n",
    "-  Rigidity (Limited bond-angles between adjacent segments)\n",
    "-  Branching \n",
    "\n",
    "Many more details [here](https://people.brandeis.edu/~kuntawu/advanced_physics_laboratory/random_Polymer%20Textbook.pdf)"
   ]
  },
  {
   "cell_type": "code",
   "execution_count": null,
   "id": "46b67e0d-5f99-470c-9d4a-2b32498fefb3",
   "metadata": {},
   "outputs": [],
   "source": []
  }
 ],
 "metadata": {
  "kernelspec": {
   "display_name": "Python 3",
   "language": "python",
   "name": "python3"
  },
  "language_info": {
   "codemirror_mode": {
    "name": "ipython",
    "version": 3
   },
   "file_extension": ".py",
   "mimetype": "text/x-python",
   "name": "python",
   "nbconvert_exporter": "python",
   "pygments_lexer": "ipython3",
   "version": "3.9.2"
  }
 },
 "nbformat": 4,
 "nbformat_minor": 5
}
